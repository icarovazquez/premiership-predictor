{
  "nbformat": 4,
  "nbformat_minor": 0,
  "metadata": {
    "colab": {
      "name": "EPL Match Predictions.ipynb",
      "provenance": [],
      "collapsed_sections": [],
      "authorship_tag": "ABX9TyOfcw04CWdjnjWBOIbTeVTK",
      "include_colab_link": true
    },
    "kernelspec": {
      "name": "python3",
      "display_name": "Python 3"
    }
  },
  "cells": [
    {
      "cell_type": "markdown",
      "metadata": {
        "id": "view-in-github",
        "colab_type": "text"
      },
      "source": [
        "<a href=\"https://colab.research.google.com/github/icarovazquez/premiership-predictor/blob/master/EPL_Match_Predictions.ipynb\" target=\"_parent\"><img src=\"https://colab.research.google.com/assets/colab-badge.svg\" alt=\"Open In Colab\"/></a>"
      ]
    },
    {
      "cell_type": "markdown",
      "metadata": {
        "id": "-RYQ8FWFxJ8m",
        "colab_type": "text"
      },
      "source": [
        "This notebook takes the [English Premiership results dataset on Kaggle](https://www.kaggle.com/irkaal/english-premier-league-results) and creates a neural network that tries to predict English premiership match results\n"
      ]
    },
    {
      "cell_type": "markdown",
      "metadata": {
        "id": "M69XT3kpxnWr",
        "colab_type": "text"
      },
      "source": [
        "First we import pandas and mount google drive so we can choose which file we are going to use"
      ]
    },
    {
      "cell_type": "code",
      "metadata": {
        "id": "dO0Oc5LyxmIe",
        "colab_type": "code",
        "colab": {
          "base_uri": "https://localhost:8080/",
          "height": 34
        },
        "outputId": "4fb28de6-8e19-4de3-a262-4c8f93fdaccb"
      },
      "source": [
        "import pandas as pd\n",
        "import tensorflow as tf\n",
        "import numpy as np\n",
        "import matplotlib.pyplot as plt\n",
        "import os\n",
        "import codecs, json\n",
        "import tempfile\n",
        "import requests\n",
        "import base64\n",
        "\n",
        "from google.colab import drive\n",
        "\n",
        "drive.mount(\"/content/drive\")\n"
      ],
      "execution_count": 60,
      "outputs": [
        {
          "output_type": "stream",
          "text": [
            "Drive already mounted at /content/drive; to attempt to forcibly remount, call drive.mount(\"/content/drive\", force_remount=True).\n"
          ],
          "name": "stdout"
        }
      ]
    },
    {
      "cell_type": "markdown",
      "metadata": {
        "id": "htLgvcbwIG4M",
        "colab_type": "text"
      },
      "source": [
        "just to be sure the drive is mounted we can do an ls command to see the drive contents"
      ]
    },
    {
      "cell_type": "code",
      "metadata": {
        "id": "OJ7yZLt4Iafj",
        "colab_type": "code",
        "colab": {
          "base_uri": "https://localhost:8080/",
          "height": 34
        },
        "outputId": "3f289a03-caa6-4df9-83b2-a6a2bf186e6c"
      },
      "source": [
        "!ls /content/drive"
      ],
      "execution_count": 2,
      "outputs": [
        {
          "output_type": "stream",
          "text": [
            "'My Drive'\n"
          ],
          "name": "stdout"
        }
      ]
    },
    {
      "cell_type": "markdown",
      "metadata": {
        "id": "koNugN08IFVv",
        "colab_type": "text"
      },
      "source": [
        "Our file is under /content/drive/My Drive/file_name. In this case we are going to use a [Kaggle public dataset](https://www.kaggle.com/irkaal/english-premier-league-results) (Thanks Alvin!) that has all the English Premiership matches from the 2000-2001 season to the 2019-2020 season. \n",
        "\n",
        "We are going to load this file into a panda dataframe and we will take a look at the first few rows of the file to see the content\n",
        "\n"
      ]
    },
    {
      "cell_type": "code",
      "metadata": {
        "id": "E02GCbn3JAEe",
        "colab_type": "code",
        "colab": {
          "base_uri": "https://localhost:8080/",
          "height": 221
        },
        "outputId": "8f3db3ca-e178-4fcf-b8f2-43d9aee265d3"
      },
      "source": [
        "file_path = \"/content/drive/My Drive/EPLresults.csv\"\n",
        "my_df = pd.read_csv(file_path)\n",
        "\n",
        "print('The shape of our dataset is ', my_df.shape)\n",
        "\n",
        "my_df.head()\n",
        "\n"
      ],
      "execution_count": 3,
      "outputs": [
        {
          "output_type": "stream",
          "text": [
            "The shape of our dataset is  (7386, 22)\n"
          ],
          "name": "stdout"
        },
        {
          "output_type": "execute_result",
          "data": {
            "text/html": [
              "<div>\n",
              "<style scoped>\n",
              "    .dataframe tbody tr th:only-of-type {\n",
              "        vertical-align: middle;\n",
              "    }\n",
              "\n",
              "    .dataframe tbody tr th {\n",
              "        vertical-align: top;\n",
              "    }\n",
              "\n",
              "    .dataframe thead th {\n",
              "        text-align: right;\n",
              "    }\n",
              "</style>\n",
              "<table border=\"1\" class=\"dataframe\">\n",
              "  <thead>\n",
              "    <tr style=\"text-align: right;\">\n",
              "      <th></th>\n",
              "      <th>Date</th>\n",
              "      <th>HomeTeam</th>\n",
              "      <th>AwayTeam</th>\n",
              "      <th>FTHG</th>\n",
              "      <th>FTAG</th>\n",
              "      <th>FTR</th>\n",
              "      <th>HTHG</th>\n",
              "      <th>HTAG</th>\n",
              "      <th>HTR</th>\n",
              "      <th>Referee</th>\n",
              "      <th>HS</th>\n",
              "      <th>AS</th>\n",
              "      <th>HST</th>\n",
              "      <th>AST</th>\n",
              "      <th>HC</th>\n",
              "      <th>AC</th>\n",
              "      <th>HF</th>\n",
              "      <th>AF</th>\n",
              "      <th>HY</th>\n",
              "      <th>AY</th>\n",
              "      <th>HR</th>\n",
              "      <th>AR</th>\n",
              "    </tr>\n",
              "  </thead>\n",
              "  <tbody>\n",
              "    <tr>\n",
              "      <th>0</th>\n",
              "      <td>19/08/00</td>\n",
              "      <td>Charlton</td>\n",
              "      <td>Man City</td>\n",
              "      <td>4</td>\n",
              "      <td>0</td>\n",
              "      <td>H</td>\n",
              "      <td>2</td>\n",
              "      <td>0</td>\n",
              "      <td>H</td>\n",
              "      <td>Rob Harris</td>\n",
              "      <td>17</td>\n",
              "      <td>8</td>\n",
              "      <td>14</td>\n",
              "      <td>4</td>\n",
              "      <td>6</td>\n",
              "      <td>6</td>\n",
              "      <td>13</td>\n",
              "      <td>12</td>\n",
              "      <td>1</td>\n",
              "      <td>2</td>\n",
              "      <td>0</td>\n",
              "      <td>0</td>\n",
              "    </tr>\n",
              "    <tr>\n",
              "      <th>1</th>\n",
              "      <td>19/08/00</td>\n",
              "      <td>Chelsea</td>\n",
              "      <td>West Ham</td>\n",
              "      <td>4</td>\n",
              "      <td>2</td>\n",
              "      <td>H</td>\n",
              "      <td>1</td>\n",
              "      <td>0</td>\n",
              "      <td>H</td>\n",
              "      <td>Graham Barber</td>\n",
              "      <td>17</td>\n",
              "      <td>12</td>\n",
              "      <td>10</td>\n",
              "      <td>5</td>\n",
              "      <td>7</td>\n",
              "      <td>7</td>\n",
              "      <td>19</td>\n",
              "      <td>14</td>\n",
              "      <td>1</td>\n",
              "      <td>2</td>\n",
              "      <td>0</td>\n",
              "      <td>0</td>\n",
              "    </tr>\n",
              "    <tr>\n",
              "      <th>2</th>\n",
              "      <td>19/08/00</td>\n",
              "      <td>Coventry</td>\n",
              "      <td>Middlesbrough</td>\n",
              "      <td>1</td>\n",
              "      <td>3</td>\n",
              "      <td>A</td>\n",
              "      <td>1</td>\n",
              "      <td>1</td>\n",
              "      <td>D</td>\n",
              "      <td>Barry Knight</td>\n",
              "      <td>6</td>\n",
              "      <td>16</td>\n",
              "      <td>3</td>\n",
              "      <td>9</td>\n",
              "      <td>8</td>\n",
              "      <td>4</td>\n",
              "      <td>15</td>\n",
              "      <td>21</td>\n",
              "      <td>5</td>\n",
              "      <td>3</td>\n",
              "      <td>1</td>\n",
              "      <td>0</td>\n",
              "    </tr>\n",
              "    <tr>\n",
              "      <th>3</th>\n",
              "      <td>19/08/00</td>\n",
              "      <td>Derby</td>\n",
              "      <td>Southampton</td>\n",
              "      <td>2</td>\n",
              "      <td>2</td>\n",
              "      <td>D</td>\n",
              "      <td>1</td>\n",
              "      <td>2</td>\n",
              "      <td>A</td>\n",
              "      <td>Andy D'Urso</td>\n",
              "      <td>6</td>\n",
              "      <td>13</td>\n",
              "      <td>4</td>\n",
              "      <td>6</td>\n",
              "      <td>5</td>\n",
              "      <td>8</td>\n",
              "      <td>11</td>\n",
              "      <td>13</td>\n",
              "      <td>1</td>\n",
              "      <td>1</td>\n",
              "      <td>0</td>\n",
              "      <td>0</td>\n",
              "    </tr>\n",
              "    <tr>\n",
              "      <th>4</th>\n",
              "      <td>19/08/00</td>\n",
              "      <td>Leeds</td>\n",
              "      <td>Everton</td>\n",
              "      <td>2</td>\n",
              "      <td>0</td>\n",
              "      <td>H</td>\n",
              "      <td>2</td>\n",
              "      <td>0</td>\n",
              "      <td>H</td>\n",
              "      <td>Dermot Gallagher</td>\n",
              "      <td>17</td>\n",
              "      <td>12</td>\n",
              "      <td>8</td>\n",
              "      <td>6</td>\n",
              "      <td>6</td>\n",
              "      <td>4</td>\n",
              "      <td>21</td>\n",
              "      <td>20</td>\n",
              "      <td>1</td>\n",
              "      <td>3</td>\n",
              "      <td>0</td>\n",
              "      <td>0</td>\n",
              "    </tr>\n",
              "  </tbody>\n",
              "</table>\n",
              "</div>"
            ],
            "text/plain": [
              "       Date  HomeTeam       AwayTeam  FTHG  FTAG FTR  ...  HF  AF HY AY  HR  AR\n",
              "0  19/08/00  Charlton       Man City     4     0   H  ...  13  12  1  2   0   0\n",
              "1  19/08/00   Chelsea       West Ham     4     2   H  ...  19  14  1  2   0   0\n",
              "2  19/08/00  Coventry  Middlesbrough     1     3   A  ...  15  21  5  3   1   0\n",
              "3  19/08/00     Derby    Southampton     2     2   D  ...  11  13  1  1   0   0\n",
              "4  19/08/00     Leeds        Everton     2     0   H  ...  21  20  1  3   0   0\n",
              "\n",
              "[5 rows x 22 columns]"
            ]
          },
          "metadata": {
            "tags": []
          },
          "execution_count": 3
        }
      ]
    },
    {
      "cell_type": "markdown",
      "metadata": {
        "id": "II-neJfDMM0R",
        "colab_type": "text"
      },
      "source": [
        "Excellent, we have 7,386 rows, each one with 22 columns and we can see a few samples below. \n",
        "\n",
        "We can see some of the columns are numeric and some are strings so let's print all the column types to see what types we have"
      ]
    },
    {
      "cell_type": "code",
      "metadata": {
        "id": "1Knq7iksMkC0",
        "colab_type": "code",
        "colab": {
          "base_uri": "https://localhost:8080/",
          "height": 510
        },
        "outputId": "95f43cea-a965-4cc0-ebf9-3ace32b84b78"
      },
      "source": [
        " my_df.info()\n"
      ],
      "execution_count": 4,
      "outputs": [
        {
          "output_type": "stream",
          "text": [
            "<class 'pandas.core.frame.DataFrame'>\n",
            "RangeIndex: 7386 entries, 0 to 7385\n",
            "Data columns (total 22 columns):\n",
            " #   Column    Non-Null Count  Dtype \n",
            "---  ------    --------------  ----- \n",
            " 0   Date      7386 non-null   object\n",
            " 1   HomeTeam  7386 non-null   object\n",
            " 2   AwayTeam  7386 non-null   object\n",
            " 3   FTHG      7386 non-null   int64 \n",
            " 4   FTAG      7386 non-null   int64 \n",
            " 5   FTR       7386 non-null   object\n",
            " 6   HTHG      7386 non-null   int64 \n",
            " 7   HTAG      7386 non-null   int64 \n",
            " 8   HTR       7386 non-null   object\n",
            " 9   Referee   7386 non-null   object\n",
            " 10  HS        7386 non-null   int64 \n",
            " 11  AS        7386 non-null   int64 \n",
            " 12  HST       7386 non-null   int64 \n",
            " 13  AST       7386 non-null   int64 \n",
            " 14  HC        7386 non-null   int64 \n",
            " 15  AC        7386 non-null   int64 \n",
            " 16  HF        7386 non-null   int64 \n",
            " 17  AF        7386 non-null   int64 \n",
            " 18  HY        7386 non-null   int64 \n",
            " 19  AY        7386 non-null   int64 \n",
            " 20  HR        7386 non-null   int64 \n",
            " 21  AR        7386 non-null   int64 \n",
            "dtypes: int64(16), object(6)\n",
            "memory usage: 1.2+ MB\n"
          ],
          "name": "stdout"
        }
      ]
    },
    {
      "cell_type": "markdown",
      "metadata": {
        "id": "RWWJdAcD-hsi",
        "colab_type": "text"
      },
      "source": [
        "Now let's plot a few of our data dimensions to get familiar with our dataset."
      ]
    },
    {
      "cell_type": "code",
      "metadata": {
        "id": "0fpbnjaI-QPG",
        "colab_type": "code",
        "colab": {
          "base_uri": "https://localhost:8080/",
          "height": 312
        },
        "outputId": "61c0056e-f693-4249-d50b-e08f3d1024a7"
      },
      "source": [
        "fig, chart = plt.subplots() \n",
        "data = my_df['FTR'].value_counts() \n",
        "\n",
        "points = data.index \n",
        "frequency = data.values \n",
        "\n",
        "chart.bar(points, frequency) \n",
        "\n",
        "chart.set_title('Frequency of different results in the English Permiership (2001-2020) ') \n",
        "chart.set_xlabel('Result Type') \n",
        "chart.set_ylabel('Frequency')"
      ],
      "execution_count": 59,
      "outputs": [
        {
          "output_type": "execute_result",
          "data": {
            "text/plain": [
              "Text(0, 0.5, 'Frequency')"
            ]
          },
          "metadata": {
            "tags": []
          },
          "execution_count": 59
        },
        {
          "output_type": "display_data",
          "data": {
            "image/png": "[encoded data removed]",
            "text/plain": [
              "<Figure size 432x288 with 1 Axes>"
            ]
          },
          "metadata": {
            "tags": [],
            "needs_background": "light"
          }
        }
      ]
    },
    {
      "cell_type": "markdown",
      "metadata": {
        "id": "nfvycgCrrv0l",
        "colab_type": "text"
      },
      "source": [
        "We can see home team wins are way more prevalent than away team wins or draws. This makes sense as the crowd plays an important role in soccer. OK, what else can we plot?  \n",
        "\n",
        "How about what team has played the most home games? "
      ]
    },
    {
      "cell_type": "code",
      "metadata": {
        "id": "18etDzlFswjl",
        "colab_type": "code",
        "colab": {
          "base_uri": "https://localhost:8080/",
          "height": 383
        },
        "outputId": "86f89ea1-3d83-4bde-9ad4-9b8a368d8bc4"
      },
      "source": [
        "# create a figure and axis \n",
        "fig, ax = plt.subplots() \n",
        "\n",
        "# count the occurrence of each class \n",
        "data = my_df['HomeTeam'].value_counts() \n",
        "# get x and y data \n",
        "points = data.index \n",
        "frequency = data.values \n",
        "# create bar chart \n",
        "ax.bar(points, frequency) \n",
        "plt.setp(ax.get_xticklabels(), rotation=90)\n",
        "# set title and labels \n",
        "ax.set_title('Number of home games for all the English Premiership teams, 2001-2020') \n",
        "ax.set_xlabel('Home Teams')\n",
        "ax.set_ylabel('Frequency')\n"
      ],
      "execution_count": 56,
      "outputs": [
        {
          "output_type": "execute_result",
          "data": {
            "text/plain": [
              "Text(0, 0.5, 'Frequency')"
            ]
          },
          "metadata": {
            "tags": []
          },
          "execution_count": 56
        },
        {
          "output_type": "display_data",
          "data": {
            "image/png": "[encoded data removed]",
            "text/plain": [
              "<Figure size 432x288 with 1 Axes>"
            ]
          },
          "metadata": {
            "tags": [],
            "needs_background": "light"
          }
        }
      ]
    },
    {
      "cell_type": "markdown",
      "metadata": {
        "id": "yjb_4fPJR0ot",
        "colab_type": "text"
      },
      "source": [
        "There are other things we could plot but let's say that's it for now. We can move on to the next step.\n",
        "\n",
        "Now that the file is in dataframe we assign some columns to x and the label to y. In our case the label is the full time result (\"FTR\"). Let's make sure we can print a label"
      ]
    },
    {
      "cell_type": "code",
      "metadata": {
        "id": "xmF9h7ZvmXSw",
        "colab_type": "code",
        "colab": {
          "base_uri": "https://localhost:8080/",
          "height": 34
        },
        "outputId": "b7bb439a-10ce-4edb-ee17-e7f4b7d22839"
      },
      "source": [
        "print(\"For row 149 the teams playing are \" + str(my_df[\"HomeTeam\"][149]) + \" and \" + str(my_df[\"AwayTeam\"][149]) + \" and the label is \"  + str(my_df[\"FTR\"][149]) + \" and the day is \" + str(my_df[\"Date\"][149]))"
      ],
      "execution_count": 6,
      "outputs": [
        {
          "output_type": "stream",
          "text": [
            "For row 149 the teams playing are Arsenal and Southampton and the label is H and the day is 02/12/00\n"
          ],
          "name": "stdout"
        }
      ]
    },
    {
      "cell_type": "markdown",
      "metadata": {
        "id": "1PQF-N7bodPb",
        "colab_type": "text"
      },
      "source": [
        "\n",
        "Before assigning the features to X and y we need to convert strings and text to something else since you cannot input strings to a neural network \n",
        "\n",
        "What features to use? Well, a theory is we need the teams that are playing and their statistics throughout the match: assists, corners and so on. Date? For now we are going to use just the day ofthe week so we will start with the following features in x:\n",
        "\n",
        "*   Day of the week when the match was played (i.e Saturday)  \n",
        "*   HomeTeam\n",
        "*   AwayTeam\n",
        "*   HTHG (Half Time Home Goals)\n",
        "*   HTAG (Half Time Away Goals)\n",
        "*   HTR  (Half Time Result)\n",
        "*   HS (Home Team Shots)\n",
        "*   AS (Away Team Shots)\n",
        "*  HC (Home Team Corners)\n",
        "*  AC (Away Team Corners)\n",
        "*  HF (Home Team Fouls)\n",
        "*  AF (Away Team Fouls)\n",
        "*  HY (Homw Team Yellow Cards)\n",
        "*  AY (Away Team Yellow Cards)\n",
        "*   HR (Home Team Red Cards)\n",
        "*   AR (Away Team Red Cards)"
      ]
    },
    {
      "cell_type": "markdown",
      "metadata": {
        "id": "URf5PYiMtuq6",
        "colab_type": "text"
      },
      "source": [
        "Now we need to convert the object columns to numbers. First we create a new dataframe with the object columns. \n",
        "\n",
        "We also drop the referee column since we are not going to use it and then we print a few rows"
      ]
    },
    {
      "cell_type": "code",
      "metadata": {
        "id": "VmbcAK-CthoC",
        "colab_type": "code",
        "colab": {
          "base_uri": "https://localhost:8080/",
          "height": 204
        },
        "outputId": "c0f0232d-7142-4f3a-831b-e8153be31948"
      },
      "source": [
        "epl_df_objects = my_df.copy()\n",
        "epl_df_objects.drop('Referee', axis=1, inplace=True)\n",
        "\n",
        "\n",
        "epl_df_objects.head()\n",
        "\n"
      ],
      "execution_count": 7,
      "outputs": [
        {
          "output_type": "execute_result",
          "data": {
            "text/html": [
              "<div>\n",
              "<style scoped>\n",
              "    .dataframe tbody tr th:only-of-type {\n",
              "        vertical-align: middle;\n",
              "    }\n",
              "\n",
              "    .dataframe tbody tr th {\n",
              "        vertical-align: top;\n",
              "    }\n",
              "\n",
              "    .dataframe thead th {\n",
              "        text-align: right;\n",
              "    }\n",
              "</style>\n",
              "<table border=\"1\" class=\"dataframe\">\n",
              "  <thead>\n",
              "    <tr style=\"text-align: right;\">\n",
              "      <th></th>\n",
              "      <th>Date</th>\n",
              "      <th>HomeTeam</th>\n",
              "      <th>AwayTeam</th>\n",
              "      <th>FTHG</th>\n",
              "      <th>FTAG</th>\n",
              "      <th>FTR</th>\n",
              "      <th>HTHG</th>\n",
              "      <th>HTAG</th>\n",
              "      <th>HTR</th>\n",
              "      <th>HS</th>\n",
              "      <th>AS</th>\n",
              "      <th>HST</th>\n",
              "      <th>AST</th>\n",
              "      <th>HC</th>\n",
              "      <th>AC</th>\n",
              "      <th>HF</th>\n",
              "      <th>AF</th>\n",
              "      <th>HY</th>\n",
              "      <th>AY</th>\n",
              "      <th>HR</th>\n",
              "      <th>AR</th>\n",
              "    </tr>\n",
              "  </thead>\n",
              "  <tbody>\n",
              "    <tr>\n",
              "      <th>0</th>\n",
              "      <td>19/08/00</td>\n",
              "      <td>Charlton</td>\n",
              "      <td>Man City</td>\n",
              "      <td>4</td>\n",
              "      <td>0</td>\n",
              "      <td>H</td>\n",
              "      <td>2</td>\n",
              "      <td>0</td>\n",
              "      <td>H</td>\n",
              "      <td>17</td>\n",
              "      <td>8</td>\n",
              "      <td>14</td>\n",
              "      <td>4</td>\n",
              "      <td>6</td>\n",
              "      <td>6</td>\n",
              "      <td>13</td>\n",
              "      <td>12</td>\n",
              "      <td>1</td>\n",
              "      <td>2</td>\n",
              "      <td>0</td>\n",
              "      <td>0</td>\n",
              "    </tr>\n",
              "    <tr>\n",
              "      <th>1</th>\n",
              "      <td>19/08/00</td>\n",
              "      <td>Chelsea</td>\n",
              "      <td>West Ham</td>\n",
              "      <td>4</td>\n",
              "      <td>2</td>\n",
              "      <td>H</td>\n",
              "      <td>1</td>\n",
              "      <td>0</td>\n",
              "      <td>H</td>\n",
              "      <td>17</td>\n",
              "      <td>12</td>\n",
              "      <td>10</td>\n",
              "      <td>5</td>\n",
              "      <td>7</td>\n",
              "      <td>7</td>\n",
              "      <td>19</td>\n",
              "      <td>14</td>\n",
              "      <td>1</td>\n",
              "      <td>2</td>\n",
              "      <td>0</td>\n",
              "      <td>0</td>\n",
              "    </tr>\n",
              "    <tr>\n",
              "      <th>2</th>\n",
              "      <td>19/08/00</td>\n",
              "      <td>Coventry</td>\n",
              "      <td>Middlesbrough</td>\n",
              "      <td>1</td>\n",
              "      <td>3</td>\n",
              "      <td>A</td>\n",
              "      <td>1</td>\n",
              "      <td>1</td>\n",
              "      <td>D</td>\n",
              "      <td>6</td>\n",
              "      <td>16</td>\n",
              "      <td>3</td>\n",
              "      <td>9</td>\n",
              "      <td>8</td>\n",
              "      <td>4</td>\n",
              "      <td>15</td>\n",
              "      <td>21</td>\n",
              "      <td>5</td>\n",
              "      <td>3</td>\n",
              "      <td>1</td>\n",
              "      <td>0</td>\n",
              "    </tr>\n",
              "    <tr>\n",
              "      <th>3</th>\n",
              "      <td>19/08/00</td>\n",
              "      <td>Derby</td>\n",
              "      <td>Southampton</td>\n",
              "      <td>2</td>\n",
              "      <td>2</td>\n",
              "      <td>D</td>\n",
              "      <td>1</td>\n",
              "      <td>2</td>\n",
              "      <td>A</td>\n",
              "      <td>6</td>\n",
              "      <td>13</td>\n",
              "      <td>4</td>\n",
              "      <td>6</td>\n",
              "      <td>5</td>\n",
              "      <td>8</td>\n",
              "      <td>11</td>\n",
              "      <td>13</td>\n",
              "      <td>1</td>\n",
              "      <td>1</td>\n",
              "      <td>0</td>\n",
              "      <td>0</td>\n",
              "    </tr>\n",
              "    <tr>\n",
              "      <th>4</th>\n",
              "      <td>19/08/00</td>\n",
              "      <td>Leeds</td>\n",
              "      <td>Everton</td>\n",
              "      <td>2</td>\n",
              "      <td>0</td>\n",
              "      <td>H</td>\n",
              "      <td>2</td>\n",
              "      <td>0</td>\n",
              "      <td>H</td>\n",
              "      <td>17</td>\n",
              "      <td>12</td>\n",
              "      <td>8</td>\n",
              "      <td>6</td>\n",
              "      <td>6</td>\n",
              "      <td>4</td>\n",
              "      <td>21</td>\n",
              "      <td>20</td>\n",
              "      <td>1</td>\n",
              "      <td>3</td>\n",
              "      <td>0</td>\n",
              "      <td>0</td>\n",
              "    </tr>\n",
              "  </tbody>\n",
              "</table>\n",
              "</div>"
            ],
            "text/plain": [
              "       Date  HomeTeam       AwayTeam  FTHG  FTAG FTR  ...  HF  AF HY  AY  HR  AR\n",
              "0  19/08/00  Charlton       Man City     4     0   H  ...  13  12  1   2   0   0\n",
              "1  19/08/00   Chelsea       West Ham     4     2   H  ...  19  14  1   2   0   0\n",
              "2  19/08/00  Coventry  Middlesbrough     1     3   A  ...  15  21  5   3   1   0\n",
              "3  19/08/00     Derby    Southampton     2     2   D  ...  11  13  1   1   0   0\n",
              "4  19/08/00     Leeds        Everton     2     0   H  ...  21  20  1   3   0   0\n",
              "\n",
              "[5 rows x 21 columns]"
            ]
          },
          "metadata": {
            "tags": []
          },
          "execution_count": 7
        }
      ]
    },
    {
      "cell_type": "markdown",
      "metadata": {
        "id": "E2HYRsbhuNvi",
        "colab_type": "text"
      },
      "source": [
        "Now we are going to check if there are any null values\n"
      ]
    },
    {
      "cell_type": "code",
      "metadata": {
        "id": "GFQqRLGLuWDm",
        "colab_type": "code",
        "colab": {
          "base_uri": "https://localhost:8080/",
          "height": 34
        },
        "outputId": "13ebd3d2-d737-4b09-fa3e-4578a4e6ac3a"
      },
      "source": [
        "print(epl_df_objects.isnull().values.sum())\n"
      ],
      "execution_count": 8,
      "outputs": [
        {
          "output_type": "stream",
          "text": [
            "0\n"
          ],
          "name": "stdout"
        }
      ]
    },
    {
      "cell_type": "markdown",
      "metadata": {
        "id": "nIJZGwpnwzco",
        "colab_type": "text"
      },
      "source": [
        "Hooray! No null values so we don't have to fix our data. We can move on to the next step: fixing some of the features we want to keep.\n",
        "\n",
        "Since we only want the day the match was played we convert the date to day of the week in a new column and drop the original date column "
      ]
    },
    {
      "cell_type": "code",
      "metadata": {
        "id": "wRfqid77ohQ-",
        "colab_type": "code",
        "colab": {
          "base_uri": "https://localhost:8080/",
          "height": 238
        },
        "outputId": "b0b65666-d3bf-49c4-d8d9-04b00e00116e"
      },
      "source": [
        "#converting match date to epoch and day of the week\n",
        "\n",
        "epl_df_objects[\"matchDate\"] = pd.to_datetime(epl_df_objects[\"Date\"], infer_datetime_format=True)\n",
        "epl_df_objects['matchDay'] = epl_df_objects['matchDate'].dt.day_name()\n",
        "\n",
        "print(epl_df_objects[\"matchDate\"][0])\n",
        "print(epl_df_objects['matchDay'][149])\n",
        "\n",
        "epl_df_objects.drop('Date', axis=1, inplace=True)\n",
        "epl_df_objects.drop('matchDate', axis=1, inplace=True)\n",
        "\n",
        "\n",
        "epl_df_objects.head()"
      ],
      "execution_count": 9,
      "outputs": [
        {
          "output_type": "stream",
          "text": [
            "2000-08-19 00:00:00\n",
            "Saturday\n"
          ],
          "name": "stdout"
        },
        {
          "output_type": "execute_result",
          "data": {
            "text/html": [
              "<div>\n",
              "<style scoped>\n",
              "    .dataframe tbody tr th:only-of-type {\n",
              "        vertical-align: middle;\n",
              "    }\n",
              "\n",
              "    .dataframe tbody tr th {\n",
              "        vertical-align: top;\n",
              "    }\n",
              "\n",
              "    .dataframe thead th {\n",
              "        text-align: right;\n",
              "    }\n",
              "</style>\n",
              "<table border=\"1\" class=\"dataframe\">\n",
              "  <thead>\n",
              "    <tr style=\"text-align: right;\">\n",
              "      <th></th>\n",
              "      <th>HomeTeam</th>\n",
              "      <th>AwayTeam</th>\n",
              "      <th>FTHG</th>\n",
              "      <th>FTAG</th>\n",
              "      <th>FTR</th>\n",
              "      <th>HTHG</th>\n",
              "      <th>HTAG</th>\n",
              "      <th>HTR</th>\n",
              "      <th>HS</th>\n",
              "      <th>AS</th>\n",
              "      <th>HST</th>\n",
              "      <th>AST</th>\n",
              "      <th>HC</th>\n",
              "      <th>AC</th>\n",
              "      <th>HF</th>\n",
              "      <th>AF</th>\n",
              "      <th>HY</th>\n",
              "      <th>AY</th>\n",
              "      <th>HR</th>\n",
              "      <th>AR</th>\n",
              "      <th>matchDay</th>\n",
              "    </tr>\n",
              "  </thead>\n",
              "  <tbody>\n",
              "    <tr>\n",
              "      <th>0</th>\n",
              "      <td>Charlton</td>\n",
              "      <td>Man City</td>\n",
              "      <td>4</td>\n",
              "      <td>0</td>\n",
              "      <td>H</td>\n",
              "      <td>2</td>\n",
              "      <td>0</td>\n",
              "      <td>H</td>\n",
              "      <td>17</td>\n",
              "      <td>8</td>\n",
              "      <td>14</td>\n",
              "      <td>4</td>\n",
              "      <td>6</td>\n",
              "      <td>6</td>\n",
              "      <td>13</td>\n",
              "      <td>12</td>\n",
              "      <td>1</td>\n",
              "      <td>2</td>\n",
              "      <td>0</td>\n",
              "      <td>0</td>\n",
              "      <td>Saturday</td>\n",
              "    </tr>\n",
              "    <tr>\n",
              "      <th>1</th>\n",
              "      <td>Chelsea</td>\n",
              "      <td>West Ham</td>\n",
              "      <td>4</td>\n",
              "      <td>2</td>\n",
              "      <td>H</td>\n",
              "      <td>1</td>\n",
              "      <td>0</td>\n",
              "      <td>H</td>\n",
              "      <td>17</td>\n",
              "      <td>12</td>\n",
              "      <td>10</td>\n",
              "      <td>5</td>\n",
              "      <td>7</td>\n",
              "      <td>7</td>\n",
              "      <td>19</td>\n",
              "      <td>14</td>\n",
              "      <td>1</td>\n",
              "      <td>2</td>\n",
              "      <td>0</td>\n",
              "      <td>0</td>\n",
              "      <td>Saturday</td>\n",
              "    </tr>\n",
              "    <tr>\n",
              "      <th>2</th>\n",
              "      <td>Coventry</td>\n",
              "      <td>Middlesbrough</td>\n",
              "      <td>1</td>\n",
              "      <td>3</td>\n",
              "      <td>A</td>\n",
              "      <td>1</td>\n",
              "      <td>1</td>\n",
              "      <td>D</td>\n",
              "      <td>6</td>\n",
              "      <td>16</td>\n",
              "      <td>3</td>\n",
              "      <td>9</td>\n",
              "      <td>8</td>\n",
              "      <td>4</td>\n",
              "      <td>15</td>\n",
              "      <td>21</td>\n",
              "      <td>5</td>\n",
              "      <td>3</td>\n",
              "      <td>1</td>\n",
              "      <td>0</td>\n",
              "      <td>Saturday</td>\n",
              "    </tr>\n",
              "    <tr>\n",
              "      <th>3</th>\n",
              "      <td>Derby</td>\n",
              "      <td>Southampton</td>\n",
              "      <td>2</td>\n",
              "      <td>2</td>\n",
              "      <td>D</td>\n",
              "      <td>1</td>\n",
              "      <td>2</td>\n",
              "      <td>A</td>\n",
              "      <td>6</td>\n",
              "      <td>13</td>\n",
              "      <td>4</td>\n",
              "      <td>6</td>\n",
              "      <td>5</td>\n",
              "      <td>8</td>\n",
              "      <td>11</td>\n",
              "      <td>13</td>\n",
              "      <td>1</td>\n",
              "      <td>1</td>\n",
              "      <td>0</td>\n",
              "      <td>0</td>\n",
              "      <td>Saturday</td>\n",
              "    </tr>\n",
              "    <tr>\n",
              "      <th>4</th>\n",
              "      <td>Leeds</td>\n",
              "      <td>Everton</td>\n",
              "      <td>2</td>\n",
              "      <td>0</td>\n",
              "      <td>H</td>\n",
              "      <td>2</td>\n",
              "      <td>0</td>\n",
              "      <td>H</td>\n",
              "      <td>17</td>\n",
              "      <td>12</td>\n",
              "      <td>8</td>\n",
              "      <td>6</td>\n",
              "      <td>6</td>\n",
              "      <td>4</td>\n",
              "      <td>21</td>\n",
              "      <td>20</td>\n",
              "      <td>1</td>\n",
              "      <td>3</td>\n",
              "      <td>0</td>\n",
              "      <td>0</td>\n",
              "      <td>Saturday</td>\n",
              "    </tr>\n",
              "  </tbody>\n",
              "</table>\n",
              "</div>"
            ],
            "text/plain": [
              "   HomeTeam       AwayTeam  FTHG  FTAG FTR  HTHG  ...  AF HY  AY  HR  AR  matchDay\n",
              "0  Charlton       Man City     4     0   H     2  ...  12  1   2   0   0  Saturday\n",
              "1   Chelsea       West Ham     4     2   H     1  ...  14  1   2   0   0  Saturday\n",
              "2  Coventry  Middlesbrough     1     3   A     1  ...  21  5   3   1   0  Saturday\n",
              "3     Derby    Southampton     2     2   D     1  ...  13  1   1   0   0  Saturday\n",
              "4     Leeds        Everton     2     0   H     2  ...  20  1   3   0   0  Saturday\n",
              "\n",
              "[5 rows x 21 columns]"
            ]
          },
          "metadata": {
            "tags": []
          },
          "execution_count": 9
        }
      ]
    },
    {
      "cell_type": "markdown",
      "metadata": {
        "id": "EdKzgRRgzbME",
        "colab_type": "text"
      },
      "source": [
        "Now we convert all the object columns to numbers because a neural network does not accept text"
      ]
    },
    {
      "cell_type": "code",
      "metadata": {
        "id": "uHMzAhkmzpGP",
        "colab_type": "code",
        "colab": {
          "base_uri": "https://localhost:8080/",
          "height": 270
        },
        "outputId": "fb3dc025-ee8c-4ee9-cd91-64de2e44e3d7"
      },
      "source": [
        "epl_df_objects = pd.get_dummies(epl_df_objects, columns=['HomeTeam'], prefix = ['HomeTeam'])\n",
        "epl_df_objects = pd.get_dummies(epl_df_objects, columns=['AwayTeam'], prefix = ['AwayTeam'])\n",
        "epl_df_objects = pd.get_dummies(epl_df_objects, columns=['HTR'], prefix = ['HTR'])\n",
        "epl_df_objects = pd.get_dummies(epl_df_objects, columns=['matchDay'], prefix = ['matchDay'])\n",
        "\n",
        "epl_df_objects.head()\n",
        "\n"
      ],
      "execution_count": 10,
      "outputs": [
        {
          "output_type": "execute_result",
          "data": {
            "text/html": [
              "<div>\n",
              "<style scoped>\n",
              "    .dataframe tbody tr th:only-of-type {\n",
              "        vertical-align: middle;\n",
              "    }\n",
              "\n",
              "    .dataframe tbody tr th {\n",
              "        vertical-align: top;\n",
              "    }\n",
              "\n",
              "    .dataframe thead th {\n",
              "        text-align: right;\n",
              "    }\n",
              "</style>\n",
              "<table border=\"1\" class=\"dataframe\">\n",
              "  <thead>\n",
              "    <tr style=\"text-align: right;\">\n",
              "      <th></th>\n",
              "      <th>FTHG</th>\n",
              "      <th>FTAG</th>\n",
              "      <th>FTR</th>\n",
              "      <th>HTHG</th>\n",
              "      <th>HTAG</th>\n",
              "      <th>HS</th>\n",
              "      <th>AS</th>\n",
              "      <th>HST</th>\n",
              "      <th>AST</th>\n",
              "      <th>HC</th>\n",
              "      <th>AC</th>\n",
              "      <th>HF</th>\n",
              "      <th>AF</th>\n",
              "      <th>HY</th>\n",
              "      <th>AY</th>\n",
              "      <th>HR</th>\n",
              "      <th>AR</th>\n",
              "      <th>HomeTeam_Arsenal</th>\n",
              "      <th>HomeTeam_Aston Villa</th>\n",
              "      <th>HomeTeam_Birmingham</th>\n",
              "      <th>HomeTeam_Blackburn</th>\n",
              "      <th>HomeTeam_Blackpool</th>\n",
              "      <th>HomeTeam_Bolton</th>\n",
              "      <th>HomeTeam_Bournemouth</th>\n",
              "      <th>HomeTeam_Bradford</th>\n",
              "      <th>HomeTeam_Brighton</th>\n",
              "      <th>HomeTeam_Burnley</th>\n",
              "      <th>HomeTeam_Cardiff</th>\n",
              "      <th>HomeTeam_Charlton</th>\n",
              "      <th>HomeTeam_Chelsea</th>\n",
              "      <th>HomeTeam_Coventry</th>\n",
              "      <th>HomeTeam_Crystal Palace</th>\n",
              "      <th>HomeTeam_Derby</th>\n",
              "      <th>HomeTeam_Everton</th>\n",
              "      <th>HomeTeam_Fulham</th>\n",
              "      <th>HomeTeam_Huddersfield</th>\n",
              "      <th>HomeTeam_Hull</th>\n",
              "      <th>HomeTeam_Ipswich</th>\n",
              "      <th>HomeTeam_Leeds</th>\n",
              "      <th>HomeTeam_Leicester</th>\n",
              "      <th>...</th>\n",
              "      <th>AwayTeam_Coventry</th>\n",
              "      <th>AwayTeam_Crystal Palace</th>\n",
              "      <th>AwayTeam_Derby</th>\n",
              "      <th>AwayTeam_Everton</th>\n",
              "      <th>AwayTeam_Fulham</th>\n",
              "      <th>AwayTeam_Huddersfield</th>\n",
              "      <th>AwayTeam_Hull</th>\n",
              "      <th>AwayTeam_Ipswich</th>\n",
              "      <th>AwayTeam_Leeds</th>\n",
              "      <th>AwayTeam_Leicester</th>\n",
              "      <th>AwayTeam_Liverpool</th>\n",
              "      <th>AwayTeam_Man City</th>\n",
              "      <th>AwayTeam_Man United</th>\n",
              "      <th>AwayTeam_Middlesbrough</th>\n",
              "      <th>AwayTeam_Newcastle</th>\n",
              "      <th>AwayTeam_Norwich</th>\n",
              "      <th>AwayTeam_Portsmouth</th>\n",
              "      <th>AwayTeam_QPR</th>\n",
              "      <th>AwayTeam_Reading</th>\n",
              "      <th>AwayTeam_Sheffield United</th>\n",
              "      <th>AwayTeam_Southampton</th>\n",
              "      <th>AwayTeam_Stoke</th>\n",
              "      <th>AwayTeam_Sunderland</th>\n",
              "      <th>AwayTeam_Swansea</th>\n",
              "      <th>AwayTeam_Tottenham</th>\n",
              "      <th>AwayTeam_Watford</th>\n",
              "      <th>AwayTeam_West Brom</th>\n",
              "      <th>AwayTeam_West Ham</th>\n",
              "      <th>AwayTeam_Wigan</th>\n",
              "      <th>AwayTeam_Wolves</th>\n",
              "      <th>HTR_A</th>\n",
              "      <th>HTR_D</th>\n",
              "      <th>HTR_H</th>\n",
              "      <th>matchDay_Friday</th>\n",
              "      <th>matchDay_Monday</th>\n",
              "      <th>matchDay_Saturday</th>\n",
              "      <th>matchDay_Sunday</th>\n",
              "      <th>matchDay_Thursday</th>\n",
              "      <th>matchDay_Tuesday</th>\n",
              "      <th>matchDay_Wednesday</th>\n",
              "    </tr>\n",
              "  </thead>\n",
              "  <tbody>\n",
              "    <tr>\n",
              "      <th>0</th>\n",
              "      <td>4</td>\n",
              "      <td>0</td>\n",
              "      <td>H</td>\n",
              "      <td>2</td>\n",
              "      <td>0</td>\n",
              "      <td>17</td>\n",
              "      <td>8</td>\n",
              "      <td>14</td>\n",
              "      <td>4</td>\n",
              "      <td>6</td>\n",
              "      <td>6</td>\n",
              "      <td>13</td>\n",
              "      <td>12</td>\n",
              "      <td>1</td>\n",
              "      <td>2</td>\n",
              "      <td>0</td>\n",
              "      <td>0</td>\n",
              "      <td>0</td>\n",
              "      <td>0</td>\n",
              "      <td>0</td>\n",
              "      <td>0</td>\n",
              "      <td>0</td>\n",
              "      <td>0</td>\n",
              "      <td>0</td>\n",
              "      <td>0</td>\n",
              "      <td>0</td>\n",
              "      <td>0</td>\n",
              "      <td>0</td>\n",
              "      <td>1</td>\n",
              "      <td>0</td>\n",
              "      <td>0</td>\n",
              "      <td>0</td>\n",
              "      <td>0</td>\n",
              "      <td>0</td>\n",
              "      <td>0</td>\n",
              "      <td>0</td>\n",
              "      <td>0</td>\n",
              "      <td>0</td>\n",
              "      <td>0</td>\n",
              "      <td>0</td>\n",
              "      <td>...</td>\n",
              "      <td>0</td>\n",
              "      <td>0</td>\n",
              "      <td>0</td>\n",
              "      <td>0</td>\n",
              "      <td>0</td>\n",
              "      <td>0</td>\n",
              "      <td>0</td>\n",
              "      <td>0</td>\n",
              "      <td>0</td>\n",
              "      <td>0</td>\n",
              "      <td>0</td>\n",
              "      <td>1</td>\n",
              "      <td>0</td>\n",
              "      <td>0</td>\n",
              "      <td>0</td>\n",
              "      <td>0</td>\n",
              "      <td>0</td>\n",
              "      <td>0</td>\n",
              "      <td>0</td>\n",
              "      <td>0</td>\n",
              "      <td>0</td>\n",
              "      <td>0</td>\n",
              "      <td>0</td>\n",
              "      <td>0</td>\n",
              "      <td>0</td>\n",
              "      <td>0</td>\n",
              "      <td>0</td>\n",
              "      <td>0</td>\n",
              "      <td>0</td>\n",
              "      <td>0</td>\n",
              "      <td>0</td>\n",
              "      <td>0</td>\n",
              "      <td>1</td>\n",
              "      <td>0</td>\n",
              "      <td>0</td>\n",
              "      <td>1</td>\n",
              "      <td>0</td>\n",
              "      <td>0</td>\n",
              "      <td>0</td>\n",
              "      <td>0</td>\n",
              "    </tr>\n",
              "    <tr>\n",
              "      <th>1</th>\n",
              "      <td>4</td>\n",
              "      <td>2</td>\n",
              "      <td>H</td>\n",
              "      <td>1</td>\n",
              "      <td>0</td>\n",
              "      <td>17</td>\n",
              "      <td>12</td>\n",
              "      <td>10</td>\n",
              "      <td>5</td>\n",
              "      <td>7</td>\n",
              "      <td>7</td>\n",
              "      <td>19</td>\n",
              "      <td>14</td>\n",
              "      <td>1</td>\n",
              "      <td>2</td>\n",
              "      <td>0</td>\n",
              "      <td>0</td>\n",
              "      <td>0</td>\n",
              "      <td>0</td>\n",
              "      <td>0</td>\n",
              "      <td>0</td>\n",
              "      <td>0</td>\n",
              "      <td>0</td>\n",
              "      <td>0</td>\n",
              "      <td>0</td>\n",
              "      <td>0</td>\n",
              "      <td>0</td>\n",
              "      <td>0</td>\n",
              "      <td>0</td>\n",
              "      <td>1</td>\n",
              "      <td>0</td>\n",
              "      <td>0</td>\n",
              "      <td>0</td>\n",
              "      <td>0</td>\n",
              "      <td>0</td>\n",
              "      <td>0</td>\n",
              "      <td>0</td>\n",
              "      <td>0</td>\n",
              "      <td>0</td>\n",
              "      <td>0</td>\n",
              "      <td>...</td>\n",
              "      <td>0</td>\n",
              "      <td>0</td>\n",
              "      <td>0</td>\n",
              "      <td>0</td>\n",
              "      <td>0</td>\n",
              "      <td>0</td>\n",
              "      <td>0</td>\n",
              "      <td>0</td>\n",
              "      <td>0</td>\n",
              "      <td>0</td>\n",
              "      <td>0</td>\n",
              "      <td>0</td>\n",
              "      <td>0</td>\n",
              "      <td>0</td>\n",
              "      <td>0</td>\n",
              "      <td>0</td>\n",
              "      <td>0</td>\n",
              "      <td>0</td>\n",
              "      <td>0</td>\n",
              "      <td>0</td>\n",
              "      <td>0</td>\n",
              "      <td>0</td>\n",
              "      <td>0</td>\n",
              "      <td>0</td>\n",
              "      <td>0</td>\n",
              "      <td>0</td>\n",
              "      <td>0</td>\n",
              "      <td>1</td>\n",
              "      <td>0</td>\n",
              "      <td>0</td>\n",
              "      <td>0</td>\n",
              "      <td>0</td>\n",
              "      <td>1</td>\n",
              "      <td>0</td>\n",
              "      <td>0</td>\n",
              "      <td>1</td>\n",
              "      <td>0</td>\n",
              "      <td>0</td>\n",
              "      <td>0</td>\n",
              "      <td>0</td>\n",
              "    </tr>\n",
              "    <tr>\n",
              "      <th>2</th>\n",
              "      <td>1</td>\n",
              "      <td>3</td>\n",
              "      <td>A</td>\n",
              "      <td>1</td>\n",
              "      <td>1</td>\n",
              "      <td>6</td>\n",
              "      <td>16</td>\n",
              "      <td>3</td>\n",
              "      <td>9</td>\n",
              "      <td>8</td>\n",
              "      <td>4</td>\n",
              "      <td>15</td>\n",
              "      <td>21</td>\n",
              "      <td>5</td>\n",
              "      <td>3</td>\n",
              "      <td>1</td>\n",
              "      <td>0</td>\n",
              "      <td>0</td>\n",
              "      <td>0</td>\n",
              "      <td>0</td>\n",
              "      <td>0</td>\n",
              "      <td>0</td>\n",
              "      <td>0</td>\n",
              "      <td>0</td>\n",
              "      <td>0</td>\n",
              "      <td>0</td>\n",
              "      <td>0</td>\n",
              "      <td>0</td>\n",
              "      <td>0</td>\n",
              "      <td>0</td>\n",
              "      <td>1</td>\n",
              "      <td>0</td>\n",
              "      <td>0</td>\n",
              "      <td>0</td>\n",
              "      <td>0</td>\n",
              "      <td>0</td>\n",
              "      <td>0</td>\n",
              "      <td>0</td>\n",
              "      <td>0</td>\n",
              "      <td>0</td>\n",
              "      <td>...</td>\n",
              "      <td>0</td>\n",
              "      <td>0</td>\n",
              "      <td>0</td>\n",
              "      <td>0</td>\n",
              "      <td>0</td>\n",
              "      <td>0</td>\n",
              "      <td>0</td>\n",
              "      <td>0</td>\n",
              "      <td>0</td>\n",
              "      <td>0</td>\n",
              "      <td>0</td>\n",
              "      <td>0</td>\n",
              "      <td>0</td>\n",
              "      <td>1</td>\n",
              "      <td>0</td>\n",
              "      <td>0</td>\n",
              "      <td>0</td>\n",
              "      <td>0</td>\n",
              "      <td>0</td>\n",
              "      <td>0</td>\n",
              "      <td>0</td>\n",
              "      <td>0</td>\n",
              "      <td>0</td>\n",
              "      <td>0</td>\n",
              "      <td>0</td>\n",
              "      <td>0</td>\n",
              "      <td>0</td>\n",
              "      <td>0</td>\n",
              "      <td>0</td>\n",
              "      <td>0</td>\n",
              "      <td>0</td>\n",
              "      <td>1</td>\n",
              "      <td>0</td>\n",
              "      <td>0</td>\n",
              "      <td>0</td>\n",
              "      <td>1</td>\n",
              "      <td>0</td>\n",
              "      <td>0</td>\n",
              "      <td>0</td>\n",
              "      <td>0</td>\n",
              "    </tr>\n",
              "    <tr>\n",
              "      <th>3</th>\n",
              "      <td>2</td>\n",
              "      <td>2</td>\n",
              "      <td>D</td>\n",
              "      <td>1</td>\n",
              "      <td>2</td>\n",
              "      <td>6</td>\n",
              "      <td>13</td>\n",
              "      <td>4</td>\n",
              "      <td>6</td>\n",
              "      <td>5</td>\n",
              "      <td>8</td>\n",
              "      <td>11</td>\n",
              "      <td>13</td>\n",
              "      <td>1</td>\n",
              "      <td>1</td>\n",
              "      <td>0</td>\n",
              "      <td>0</td>\n",
              "      <td>0</td>\n",
              "      <td>0</td>\n",
              "      <td>0</td>\n",
              "      <td>0</td>\n",
              "      <td>0</td>\n",
              "      <td>0</td>\n",
              "      <td>0</td>\n",
              "      <td>0</td>\n",
              "      <td>0</td>\n",
              "      <td>0</td>\n",
              "      <td>0</td>\n",
              "      <td>0</td>\n",
              "      <td>0</td>\n",
              "      <td>0</td>\n",
              "      <td>0</td>\n",
              "      <td>1</td>\n",
              "      <td>0</td>\n",
              "      <td>0</td>\n",
              "      <td>0</td>\n",
              "      <td>0</td>\n",
              "      <td>0</td>\n",
              "      <td>0</td>\n",
              "      <td>0</td>\n",
              "      <td>...</td>\n",
              "      <td>0</td>\n",
              "      <td>0</td>\n",
              "      <td>0</td>\n",
              "      <td>0</td>\n",
              "      <td>0</td>\n",
              "      <td>0</td>\n",
              "      <td>0</td>\n",
              "      <td>0</td>\n",
              "      <td>0</td>\n",
              "      <td>0</td>\n",
              "      <td>0</td>\n",
              "      <td>0</td>\n",
              "      <td>0</td>\n",
              "      <td>0</td>\n",
              "      <td>0</td>\n",
              "      <td>0</td>\n",
              "      <td>0</td>\n",
              "      <td>0</td>\n",
              "      <td>0</td>\n",
              "      <td>0</td>\n",
              "      <td>1</td>\n",
              "      <td>0</td>\n",
              "      <td>0</td>\n",
              "      <td>0</td>\n",
              "      <td>0</td>\n",
              "      <td>0</td>\n",
              "      <td>0</td>\n",
              "      <td>0</td>\n",
              "      <td>0</td>\n",
              "      <td>0</td>\n",
              "      <td>1</td>\n",
              "      <td>0</td>\n",
              "      <td>0</td>\n",
              "      <td>0</td>\n",
              "      <td>0</td>\n",
              "      <td>1</td>\n",
              "      <td>0</td>\n",
              "      <td>0</td>\n",
              "      <td>0</td>\n",
              "      <td>0</td>\n",
              "    </tr>\n",
              "    <tr>\n",
              "      <th>4</th>\n",
              "      <td>2</td>\n",
              "      <td>0</td>\n",
              "      <td>H</td>\n",
              "      <td>2</td>\n",
              "      <td>0</td>\n",
              "      <td>17</td>\n",
              "      <td>12</td>\n",
              "      <td>8</td>\n",
              "      <td>6</td>\n",
              "      <td>6</td>\n",
              "      <td>4</td>\n",
              "      <td>21</td>\n",
              "      <td>20</td>\n",
              "      <td>1</td>\n",
              "      <td>3</td>\n",
              "      <td>0</td>\n",
              "      <td>0</td>\n",
              "      <td>0</td>\n",
              "      <td>0</td>\n",
              "      <td>0</td>\n",
              "      <td>0</td>\n",
              "      <td>0</td>\n",
              "      <td>0</td>\n",
              "      <td>0</td>\n",
              "      <td>0</td>\n",
              "      <td>0</td>\n",
              "      <td>0</td>\n",
              "      <td>0</td>\n",
              "      <td>0</td>\n",
              "      <td>0</td>\n",
              "      <td>0</td>\n",
              "      <td>0</td>\n",
              "      <td>0</td>\n",
              "      <td>0</td>\n",
              "      <td>0</td>\n",
              "      <td>0</td>\n",
              "      <td>0</td>\n",
              "      <td>0</td>\n",
              "      <td>1</td>\n",
              "      <td>0</td>\n",
              "      <td>...</td>\n",
              "      <td>0</td>\n",
              "      <td>0</td>\n",
              "      <td>0</td>\n",
              "      <td>1</td>\n",
              "      <td>0</td>\n",
              "      <td>0</td>\n",
              "      <td>0</td>\n",
              "      <td>0</td>\n",
              "      <td>0</td>\n",
              "      <td>0</td>\n",
              "      <td>0</td>\n",
              "      <td>0</td>\n",
              "      <td>0</td>\n",
              "      <td>0</td>\n",
              "      <td>0</td>\n",
              "      <td>0</td>\n",
              "      <td>0</td>\n",
              "      <td>0</td>\n",
              "      <td>0</td>\n",
              "      <td>0</td>\n",
              "      <td>0</td>\n",
              "      <td>0</td>\n",
              "      <td>0</td>\n",
              "      <td>0</td>\n",
              "      <td>0</td>\n",
              "      <td>0</td>\n",
              "      <td>0</td>\n",
              "      <td>0</td>\n",
              "      <td>0</td>\n",
              "      <td>0</td>\n",
              "      <td>0</td>\n",
              "      <td>0</td>\n",
              "      <td>1</td>\n",
              "      <td>0</td>\n",
              "      <td>0</td>\n",
              "      <td>1</td>\n",
              "      <td>0</td>\n",
              "      <td>0</td>\n",
              "      <td>0</td>\n",
              "      <td>0</td>\n",
              "    </tr>\n",
              "  </tbody>\n",
              "</table>\n",
              "<p>5 rows × 113 columns</p>\n",
              "</div>"
            ],
            "text/plain": [
              "   FTHG  FTAG FTR  ...  matchDay_Thursday  matchDay_Tuesday  matchDay_Wednesday\n",
              "0     4     0   H  ...                  0                 0                   0\n",
              "1     4     2   H  ...                  0                 0                   0\n",
              "2     1     3   A  ...                  0                 0                   0\n",
              "3     2     2   D  ...                  0                 0                   0\n",
              "4     2     0   H  ...                  0                 0                   0\n",
              "\n",
              "[5 rows x 113 columns]"
            ]
          },
          "metadata": {
            "tags": []
          },
          "execution_count": 10
        }
      ]
    },
    {
      "cell_type": "markdown",
      "metadata": {
        "id": "oWeV37my1vsw",
        "colab_type": "text"
      },
      "source": [
        "Before assigning features to X and the label to y we need to convert the label to numeric values. We also assign all the relevant features to an intermediate variable"
      ]
    },
    {
      "cell_type": "code",
      "metadata": {
        "id": "I5RO4MUX129p",
        "colab_type": "code",
        "colab": {
          "base_uri": "https://localhost:8080/",
          "height": 340
        },
        "outputId": "d584b0b4-c7f3-4996-8e53-b0ade4408b23"
      },
      "source": [
        "from sklearn.preprocessing import LabelEncoder\n",
        "label_encoder = LabelEncoder()\n",
        "\n",
        "\n",
        "epl_df_objects['FTR']= label_encoder.fit_transform(epl_df_objects['FTR']) \n",
        "  \n",
        "print('Unique values for our label are: ', epl_df_objects['FTR'].unique())\n",
        "print('if the home team wins the label is ', epl_df_objects['FTR'][0])\n",
        "print('if the away team wins the label is ', epl_df_objects['FTR'][2])\n",
        "print('if there is a tie the label is ', epl_df_objects['FTR'][3])\n",
        "\n",
        "label = epl_df_objects['FTR']\n",
        "print('the result for the match in row 149 is ', label[149])\n",
        "\n",
        "print(epl_df_objects.iloc[:,3:113])\n",
        "\n",
        "features = epl_df_objects.iloc[:,3:113]\n",
        "\n",
        "#for col in features.columns: \n",
        "#    print(col) "
      ],
      "execution_count": 32,
      "outputs": [
        {
          "output_type": "stream",
          "text": [
            "Unique values for our label are:  [2 0 1]\n",
            "if the home team wins the label is  2\n",
            "if the away team wins the label is  0\n",
            "if there is a tie the label is  1\n",
            "the result for the match in row 149 is  2\n",
            "      HTHG  HTAG  HS  ...  matchDay_Thursday  matchDay_Tuesday  matchDay_Wednesday\n",
            "0        2     0  17  ...                  0                 0                   0\n",
            "1        1     0  17  ...                  0                 0                   0\n",
            "2        1     1   6  ...                  0                 0                   0\n",
            "3        1     2   6  ...                  0                 0                   0\n",
            "4        2     0  17  ...                  0                 0                   0\n",
            "...    ...   ...  ..  ...                ...               ...                 ...\n",
            "7381     0     0  11  ...                  0                 0                   0\n",
            "7382     1     0  21  ...                  0                 0                   0\n",
            "7383     2     0  17  ...                  0                 0                   0\n",
            "7384     1     0  12  ...                  0                 0                   0\n",
            "7385     1     0  15  ...                  1                 0                   0\n",
            "\n",
            "[7386 rows x 110 columns]\n"
          ],
          "name": "stdout"
        }
      ]
    },
    {
      "cell_type": "markdown",
      "metadata": {
        "id": "1wP_QVa6vjnP",
        "colab_type": "text"
      },
      "source": [
        "Now we can create X and y and divide the dataset in a training set and a test set. We will use the test set to check and see if we are overfitting"
      ]
    },
    {
      "cell_type": "code",
      "metadata": {
        "id": "mCHUURIGv0lP",
        "colab_type": "code",
        "colab": {
          "base_uri": "https://localhost:8080/",
          "height": 85
        },
        "outputId": "4e5aa0d9-f497-404c-d136-6454aa3a23f4"
      },
      "source": [
        "from sklearn.model_selection import train_test_split\n",
        "\n",
        "y=np.ravel(label)\n",
        "X = features\n",
        "\n",
        "\n",
        "X_train, X_test, y_train, y_test = train_test_split(X, y, test_size=0.33, shuffle=False)\n",
        "\n",
        "print(\"The shape of X_train is \" + str(X_train.shape))\n",
        "print(\"The size of y_train is \" + str(y_train.shape))\n",
        "print(\"The size of X_test set is \" + str(X_test.shape))\n",
        "print(\"The size of y_test is \" + str(y_test.shape))"
      ],
      "execution_count": 12,
      "outputs": [
        {
          "output_type": "stream",
          "text": [
            "The shape of X_train is (4948, 110)\n",
            "The size of y_train is (4948,)\n",
            "The size of X_test set is (2438, 110)\n",
            "The size of y_test is (2438,)\n"
          ],
          "name": "stdout"
        }
      ]
    },
    {
      "cell_type": "markdown",
      "metadata": {
        "id": "w0Wjs1tBrgIx",
        "colab_type": "text"
      },
      "source": [
        "Great!\n",
        "\n",
        "Let's print a few rows of y_train to make sure they are one hot-encoded"
      ]
    },
    {
      "cell_type": "code",
      "metadata": {
        "id": "axdh3NqTrw6R",
        "colab_type": "code",
        "colab": {
          "base_uri": "https://localhost:8080/",
          "height": 68
        },
        "outputId": "c4d7a534-828c-40ef-8fde-4bb5ee5a3466"
      },
      "source": [
        "#one hot-encoding y_train and y_test\n",
        "y_train = tf.keras.utils.to_categorical(y_train, num_classes=3)\n",
        "y_test = tf.keras.utils.to_categorical(y_test, num_classes=3)\n",
        "\n",
        "print(\"The size of y_train is \" + str(y_train.shape))\n",
        "print(\"The size of y_test is \" + str(y_test.shape))\n",
        "\n",
        "print(y_train[0])"
      ],
      "execution_count": 13,
      "outputs": [
        {
          "output_type": "stream",
          "text": [
            "The size of y_train is (4948, 3)\n",
            "The size of y_test is (2438, 3)\n",
            "[0. 0. 1.]\n"
          ],
          "name": "stdout"
        }
      ]
    },
    {
      "cell_type": "markdown",
      "metadata": {
        "id": "8SKRVt460Tqt",
        "colab_type": "text"
      },
      "source": [
        "We now create our models. We will start with a neural network using tensorflow and keras"
      ]
    },
    {
      "cell_type": "code",
      "metadata": {
        "id": "2vyQcE0n0bsy",
        "colab_type": "code",
        "colab": {
          "base_uri": "https://localhost:8080/",
          "height": 255
        },
        "outputId": "a5c7ea94-7032-46e6-9f0f-2f0d3cbd1a91"
      },
      "source": [
        "model = tf.keras.models.Sequential([\n",
        "      tf.keras.layers.Dense(330, input_dim=110, activation='relu'), \n",
        "      tf.keras.layers.Dense(10, input_dim=330, activation='relu'),                               \n",
        "      tf.keras.layers.Dense(3,activation='softmax')\n",
        "])\n",
        "\n",
        "model.summary()\n",
        "\n",
        "model.compile(loss = 'categorical_crossentropy', optimizer='adam', metrics=['accuracy'])\n"
      ],
      "execution_count": 35,
      "outputs": [
        {
          "output_type": "stream",
          "text": [
            "Model: \"sequential_3\"\n",
            "_________________________________________________________________\n",
            "Layer (type)                 Output Shape              Param #   \n",
            "=================================================================\n",
            "dense_9 (Dense)              (None, 330)               36630     \n",
            "_________________________________________________________________\n",
            "dense_10 (Dense)             (None, 10)                3310      \n",
            "_________________________________________________________________\n",
            "dense_11 (Dense)             (None, 3)                 33        \n",
            "=================================================================\n",
            "Total params: 39,973\n",
            "Trainable params: 39,973\n",
            "Non-trainable params: 0\n",
            "_________________________________________________________________\n"
          ],
          "name": "stdout"
        }
      ]
    },
    {
      "cell_type": "markdown",
      "metadata": {
        "id": "ONSd9Oyg2PrR",
        "colab_type": "text"
      },
      "source": [
        "Our model is now ready to be fitted. "
      ]
    },
    {
      "cell_type": "code",
      "metadata": {
        "id": "mSlDOc5p19Na",
        "colab_type": "code",
        "colab": {
          "base_uri": "https://localhost:8080/",
          "height": 1000
        },
        "outputId": "996d1a05-172d-4956-d837-a085028b9433"
      },
      "source": [
        "history = model.fit(X_train, y_train, epochs=65)\n"
      ],
      "execution_count": 15,
      "outputs": [
        {
          "output_type": "stream",
          "text": [
            "Epoch 1/65\n",
            "155/155 [==============================] - 0s 1ms/step - loss: 0.9039 - accuracy: 0.5887\n",
            "Epoch 2/65\n",
            "155/155 [==============================] - 0s 1ms/step - loss: 0.7941 - accuracy: 0.6407\n",
            "Epoch 3/65\n",
            "155/155 [==============================] - 0s 1ms/step - loss: 0.7605 - accuracy: 0.6496\n",
            "Epoch 4/65\n",
            "155/155 [==============================] - 0s 1ms/step - loss: 0.7641 - accuracy: 0.6500\n",
            "Epoch 5/65\n",
            "155/155 [==============================] - 0s 1ms/step - loss: 0.7489 - accuracy: 0.6538\n",
            "Epoch 6/65\n",
            "155/155 [==============================] - 0s 1ms/step - loss: 0.7467 - accuracy: 0.6643\n",
            "Epoch 7/65\n",
            "155/155 [==============================] - 0s 1ms/step - loss: 0.7542 - accuracy: 0.6591\n",
            "Epoch 8/65\n",
            "155/155 [==============================] - 0s 1ms/step - loss: 0.7270 - accuracy: 0.6686\n",
            "Epoch 9/65\n",
            "155/155 [==============================] - 0s 1ms/step - loss: 0.7176 - accuracy: 0.6718\n",
            "Epoch 10/65\n",
            "155/155 [==============================] - 0s 1ms/step - loss: 0.7163 - accuracy: 0.6760\n",
            "Epoch 11/65\n",
            "155/155 [==============================] - 0s 1ms/step - loss: 0.6989 - accuracy: 0.6904\n",
            "Epoch 12/65\n",
            "155/155 [==============================] - 0s 1ms/step - loss: 0.6900 - accuracy: 0.6908\n",
            "Epoch 13/65\n",
            "155/155 [==============================] - 0s 1ms/step - loss: 0.6905 - accuracy: 0.6863\n",
            "Epoch 14/65\n",
            "155/155 [==============================] - 0s 1ms/step - loss: 0.6744 - accuracy: 0.7013\n",
            "Epoch 15/65\n",
            "155/155 [==============================] - 0s 1ms/step - loss: 0.6602 - accuracy: 0.7094\n",
            "Epoch 16/65\n",
            "155/155 [==============================] - 0s 1ms/step - loss: 0.6489 - accuracy: 0.7104\n",
            "Epoch 17/65\n",
            "155/155 [==============================] - 0s 1ms/step - loss: 0.6381 - accuracy: 0.7205\n",
            "Epoch 18/65\n",
            "155/155 [==============================] - 0s 1ms/step - loss: 0.6349 - accuracy: 0.7227\n",
            "Epoch 19/65\n",
            "155/155 [==============================] - 0s 1ms/step - loss: 0.6183 - accuracy: 0.7241\n",
            "Epoch 20/65\n",
            "155/155 [==============================] - 0s 1ms/step - loss: 0.6024 - accuracy: 0.7387\n",
            "Epoch 21/65\n",
            "155/155 [==============================] - 0s 1ms/step - loss: 0.5949 - accuracy: 0.7456\n",
            "Epoch 22/65\n",
            "155/155 [==============================] - 0s 1ms/step - loss: 0.5815 - accuracy: 0.7456\n",
            "Epoch 23/65\n",
            "155/155 [==============================] - 0s 1ms/step - loss: 0.5563 - accuracy: 0.7660\n",
            "Epoch 24/65\n",
            "155/155 [==============================] - 0s 1ms/step - loss: 0.5425 - accuracy: 0.7688\n",
            "Epoch 25/65\n",
            "155/155 [==============================] - 0s 1ms/step - loss: 0.5391 - accuracy: 0.7692\n",
            "Epoch 26/65\n",
            "155/155 [==============================] - 0s 1ms/step - loss: 0.5106 - accuracy: 0.7886\n",
            "Epoch 27/65\n",
            "155/155 [==============================] - 0s 1ms/step - loss: 0.5015 - accuracy: 0.7908\n",
            "Epoch 28/65\n",
            "155/155 [==============================] - 0s 1ms/step - loss: 0.4950 - accuracy: 0.7973\n",
            "Epoch 29/65\n",
            "155/155 [==============================] - 0s 1ms/step - loss: 0.4704 - accuracy: 0.8135\n",
            "Epoch 30/65\n",
            "155/155 [==============================] - 0s 1ms/step - loss: 0.4548 - accuracy: 0.8137\n",
            "Epoch 31/65\n",
            "155/155 [==============================] - 0s 1ms/step - loss: 0.4363 - accuracy: 0.8252\n",
            "Epoch 32/65\n",
            "155/155 [==============================] - 0s 1ms/step - loss: 0.4225 - accuracy: 0.8319\n",
            "Epoch 33/65\n",
            "155/155 [==============================] - 0s 1ms/step - loss: 0.3974 - accuracy: 0.8428\n",
            "Epoch 34/65\n",
            "155/155 [==============================] - 0s 1ms/step - loss: 0.3927 - accuracy: 0.8446\n",
            "Epoch 35/65\n",
            "155/155 [==============================] - 0s 1ms/step - loss: 0.3735 - accuracy: 0.8535\n",
            "Epoch 36/65\n",
            "155/155 [==============================] - 0s 1ms/step - loss: 0.3510 - accuracy: 0.8684\n",
            "Epoch 37/65\n",
            "155/155 [==============================] - 0s 1ms/step - loss: 0.3458 - accuracy: 0.8676\n",
            "Epoch 38/65\n",
            "155/155 [==============================] - 0s 1ms/step - loss: 0.3191 - accuracy: 0.8806\n",
            "Epoch 39/65\n",
            "155/155 [==============================] - 0s 1ms/step - loss: 0.3156 - accuracy: 0.8810\n",
            "Epoch 40/65\n",
            "155/155 [==============================] - 0s 1ms/step - loss: 0.2890 - accuracy: 0.8951\n",
            "Epoch 41/65\n",
            "155/155 [==============================] - 0s 1ms/step - loss: 0.2897 - accuracy: 0.8834\n",
            "Epoch 42/65\n",
            "155/155 [==============================] - 0s 1ms/step - loss: 0.2647 - accuracy: 0.9040\n",
            "Epoch 43/65\n",
            "155/155 [==============================] - 0s 1ms/step - loss: 0.2482 - accuracy: 0.9078\n",
            "Epoch 44/65\n",
            "155/155 [==============================] - 0s 1ms/step - loss: 0.2374 - accuracy: 0.9149\n",
            "Epoch 45/65\n",
            "155/155 [==============================] - 0s 1ms/step - loss: 0.2208 - accuracy: 0.9232\n",
            "Epoch 46/65\n",
            "155/155 [==============================] - 0s 1ms/step - loss: 0.2287 - accuracy: 0.9184\n",
            "Epoch 47/65\n",
            "155/155 [==============================] - 0s 1ms/step - loss: 0.1970 - accuracy: 0.9355\n",
            "Epoch 48/65\n",
            "155/155 [==============================] - 0s 1ms/step - loss: 0.1961 - accuracy: 0.9270\n",
            "Epoch 49/65\n",
            "155/155 [==============================] - 0s 1ms/step - loss: 0.1824 - accuracy: 0.9369\n",
            "Epoch 50/65\n",
            "155/155 [==============================] - 0s 1ms/step - loss: 0.1654 - accuracy: 0.9428\n",
            "Epoch 51/65\n",
            "155/155 [==============================] - 0s 1ms/step - loss: 0.1610 - accuracy: 0.9448\n",
            "Epoch 52/65\n",
            "155/155 [==============================] - 0s 1ms/step - loss: 0.1810 - accuracy: 0.9347\n",
            "Epoch 53/65\n",
            "155/155 [==============================] - 0s 1ms/step - loss: 0.1465 - accuracy: 0.9501\n",
            "Epoch 54/65\n",
            "155/155 [==============================] - 0s 1ms/step - loss: 0.1261 - accuracy: 0.9594\n",
            "Epoch 55/65\n",
            "155/155 [==============================] - 0s 1ms/step - loss: 0.1153 - accuracy: 0.9650\n",
            "Epoch 56/65\n",
            "155/155 [==============================] - 0s 1ms/step - loss: 0.1072 - accuracy: 0.9665\n",
            "Epoch 57/65\n",
            "155/155 [==============================] - 0s 1ms/step - loss: 0.0973 - accuracy: 0.9715\n",
            "Epoch 58/65\n",
            "155/155 [==============================] - 0s 1ms/step - loss: 0.1037 - accuracy: 0.9681\n",
            "Epoch 59/65\n",
            "155/155 [==============================] - 0s 1ms/step - loss: 0.0869 - accuracy: 0.9759\n",
            "Epoch 60/65\n",
            "155/155 [==============================] - 0s 1ms/step - loss: 0.0876 - accuracy: 0.9743\n",
            "Epoch 61/65\n",
            "155/155 [==============================] - 0s 1ms/step - loss: 0.0836 - accuracy: 0.9735\n",
            "Epoch 62/65\n",
            "155/155 [==============================] - 0s 1ms/step - loss: 0.0734 - accuracy: 0.9796\n",
            "Epoch 63/65\n",
            "155/155 [==============================] - 0s 1ms/step - loss: 0.0842 - accuracy: 0.9739\n",
            "Epoch 64/65\n",
            "155/155 [==============================] - 0s 1ms/step - loss: 0.0974 - accuracy: 0.9667\n",
            "Epoch 65/65\n",
            "155/155 [==============================] - 0s 1ms/step - loss: 0.0861 - accuracy: 0.9737\n"
          ],
          "name": "stdout"
        }
      ]
    },
    {
      "cell_type": "markdown",
      "metadata": {
        "id": "D34L_eP0e5wc",
        "colab_type": "text"
      },
      "source": [
        "Before evaluating our model let's plot our loss and accuracy to see how they changed while the model was trained\n"
      ]
    },
    {
      "cell_type": "code",
      "metadata": {
        "id": "6L9uuWD3fD3S",
        "colab_type": "code",
        "colab": {
          "base_uri": "https://localhost:8080/",
          "height": 573
        },
        "outputId": "f31732a7-b428-4e1c-bf64-7b8ed08d24ed"
      },
      "source": [
        "#accuracy history\n",
        "plt.plot(history.history['accuracy'])\n",
        "plt.title('model accuracy')\n",
        "plt.ylabel('accuracy')\n",
        "plt.xlabel('epoch')\n",
        "plt.legend(['train'], loc='upper left')\n",
        "plt.show()\n",
        "\n",
        "#loss history\n",
        "plt.plot(history.history['loss'])\n",
        "plt.title('model loss')\n",
        "plt.ylabel('loss')\n",
        "plt.xlabel('epoch')\n",
        "plt.legend(['train'], loc='upper left')\n",
        "plt.show()\n"
      ],
      "execution_count": 16,
      "outputs": [
        {
          "output_type": "display_data",
          "data": {
            "image/png": "[encoded data removed]",
            "text/plain": [
              "<Figure size 432x288 with 1 Axes>"
            ]
          },
          "metadata": {
            "tags": [],
            "needs_background": "light"
          }
        },
        {
          "output_type": "display_data",
          "data": {
            "image/png": "[encoded data removed]",
            "text/plain": [
              "<Figure size 432x288 with 1 Axes>"
            ]
          },
          "metadata": {
            "tags": [],
            "needs_background": "light"
          }
        }
      ]
    },
    {
      "cell_type": "markdown",
      "metadata": {
        "id": "LpxBrxc37pyb",
        "colab_type": "text"
      },
      "source": [
        "Now we can evaluate our model on the test set"
      ]
    },
    {
      "cell_type": "code",
      "metadata": {
        "id": "cr54m3kd7lkw",
        "colab_type": "code",
        "colab": {
          "base_uri": "https://localhost:8080/",
          "height": 68
        },
        "outputId": "e6664ff3-5360-48dc-a428-35b390038842"
      },
      "source": [
        "score = model.evaluate(X_test, y_test, verbose=1)\n",
        "\n",
        "print(\"Test Score:\", score[0])\n",
        "print(\"Test Accuracy:\", score[1])"
      ],
      "execution_count": 17,
      "outputs": [
        {
          "output_type": "stream",
          "text": [
            "77/77 [==============================] - 0s 944us/step - loss: 3.2080 - accuracy: 0.5710\n",
            "Test Score: 3.2079906463623047\n",
            "Test Accuracy: 0.5709598064422607\n"
          ],
          "name": "stdout"
        }
      ]
    },
    {
      "cell_type": "markdown",
      "metadata": {
        "id": "xWp4ZA5Q8B_l",
        "colab_type": "text"
      },
      "source": [
        "Now let's try to make a prediction with data from a future premiership match from this current season:\n",
        "\n",
        "Arsenal at home vs Norwich on Wednesday 07/01/2020\n",
        "\n"
      ]
    },
    {
      "cell_type": "code",
      "metadata": {
        "id": "LwLLCV-O77o3",
        "colab_type": "code",
        "colab": {
          "base_uri": "https://localhost:8080/",
          "height": 136
        },
        "outputId": "c859e25b-d2ac-4a88-9c1a-42356596c11e"
      },
      "source": [
        "Xnew = np.array([[0, 0, 0, 0, 0, 0, 0, 0, 0, 0, 0, 0, 0, 0, 1, 0, 0, 0, 0, 0, 0, 0, 0, 0, 0, 0, 0, 0, 0, 0, 0, 0, 0, 0, 0, 0, 0, 0, 0, 0, 0, 0, 0, 0, 0, 0, 0, 0, 0, 0, 0, 0, 0, 0, 0, 0, 0, 0, 0, 0, 0, 0, 0, 0, 0, 0, 0, 0, 0, 0, 0, 0, 0, 0, 0, 0, 0, 0, 0, 0, 0, 0, 0, 0, 0, 1, 0, 0, 0, 0, 0, 0, 0, 0, 0, 0, 0, 0, 0, 0, 0, 0, 0, 0, 0, 0, 0, 0, 0, 1]])\n",
        "print('the shape of our input data is ', Xnew.shape)\n",
        "\n",
        " # make a prediction\n",
        "ynew = np.argmax(model.predict(Xnew), axis=-1)\n",
        "# show the inputs and predicted outputs\n",
        "print(\"X = %s \" % Xnew)\n",
        "print(\"Prediction = %s\" % ynew[0])\n",
        "\n",
        "if ynew[0] == 2:\n",
        "  print(\"Home team is going to win\")\n",
        "elif ynew[0] == 0:\n",
        "  print(\"Away team is going to win\")\n",
        "else:\n",
        "  print(\"It is going to be a draw\")"
      ],
      "execution_count": 18,
      "outputs": [
        {
          "output_type": "stream",
          "text": [
            "the shape of our input data is  (1, 110)\n",
            "X = [[0 0 0 0 0 0 0 0 0 0 0 0 0 0 1 0 0 0 0 0 0 0 0 0 0 0 0 0 0 0 0 0 0 0 0 0\n",
            "  0 0 0 0 0 0 0 0 0 0 0 0 0 0 0 0 0 0 0 0 0 0 0 0 0 0 0 0 0 0 0 0 0 0 0 0\n",
            "  0 0 0 0 0 0 0 0 0 0 0 0 0 1 0 0 0 0 0 0 0 0 0 0 0 0 0 0 0 0 0 0 0 0 0 0\n",
            "  0 1]] \n",
            "Prediction = 2\n",
            "Home team is going to win\n"
          ],
          "name": "stdout"
        }
      ]
    },
    {
      "cell_type": "markdown",
      "metadata": {
        "id": "jk1GBXat6ijR",
        "colab_type": "text"
      },
      "source": [
        "Now let's try to serve the model as an api so people can call it and get predictions for the games they want to know about.\n",
        "\n",
        "We will use tensorflow serving to create our api\n",
        "\n",
        "First we save our model\n"
      ]
    },
    {
      "cell_type": "code",
      "metadata": {
        "id": "ciRgi7I66wzN",
        "colab_type": "code",
        "colab": {
          "base_uri": "https://localhost:8080/",
          "height": 207
        },
        "outputId": "264b0cbe-157e-4eea-cd1d-661f819b65df"
      },
      "source": [
        "MODEL_DIR = tempfile.gettempdir()\n",
        "\n",
        "version = 1\n",
        "\n",
        "export_path = os.path.join(MODEL_DIR, str(version))\n",
        "\n",
        "if os.path.isdir(export_path):\n",
        "    print('\\nAlready saved a model, cleaning up\\n')\n",
        "    !rm -r {export_path}\n",
        "\n",
        "model.save(export_path, save_format=\"tf\")\n",
        "\n",
        "print('\\nexport_path = {}'.format(export_path))\n",
        "!ls -l {export_path}"
      ],
      "execution_count": 19,
      "outputs": [
        {
          "output_type": "stream",
          "text": [
            "WARNING:tensorflow:From /usr/local/lib/python3.6/dist-packages/tensorflow/python/ops/resource_variable_ops.py:1817: calling BaseResourceVariable.__init__ (from tensorflow.python.ops.resource_variable_ops) with constraint is deprecated and will be removed in a future version.\n",
            "Instructions for updating:\n",
            "If using Keras pass *_constraint arguments to layers.\n",
            "INFO:tensorflow:Assets written to: /tmp/1/assets\n",
            "\n",
            "export_path = /tmp/1\n",
            "total 96\n",
            "drwxr-xr-x 2 root root  4096 Jul  5 04:44 assets\n",
            "-rw-r--r-- 1 root root 89355 Jul  5 04:44 saved_model.pb\n",
            "drwxr-xr-x 2 root root  4096 Jul  5 04:44 variables\n"
          ],
          "name": "stdout"
        }
      ]
    },
    {
      "cell_type": "markdown",
      "metadata": {
        "id": "9Lg1Q016KCl8",
        "colab_type": "text"
      },
      "source": [
        "Now we download the tensorflow model server code "
      ]
    },
    {
      "cell_type": "code",
      "metadata": {
        "id": "PBGgKmtZ8g9P",
        "colab_type": "code",
        "colab": {
          "base_uri": "https://localhost:8080/",
          "height": 646
        },
        "outputId": "573dfa7a-902d-4077-db02-63f79739a1a7"
      },
      "source": [
        "!echo \"deb http://storage.googleapis.com/tensorflow-serving-apt stable tensorflow-model-server tensorflow-model-server-universal\" | tee /etc/apt/sources.list.d/tensorflow-serving.list && \\\n",
        "curl https://storage.googleapis.com/tensorflow-serving-apt/tensorflow-serving.release.pub.gpg | apt-key add -\n",
        "!apt update"
      ],
      "execution_count": 20,
      "outputs": [
        {
          "output_type": "stream",
          "text": [
            "deb http://storage.googleapis.com/tensorflow-serving-apt stable tensorflow-model-server tensorflow-model-server-universal\n",
            "  % Total    % Received % Xferd  Average Speed   Time    Time     Time  Current\n",
            "                                 Dload  Upload   Total   Spent    Left  Speed\n",
            "\r  0     0    0     0    0     0      0      0 --:--:-- --:--:-- --:--:--     0\r100  2943  100  2943    0     0  11190      0 --:--:-- --:--:-- --:--:-- 11232\n",
            "OK\n",
            "Hit:1 http://ppa.launchpad.net/graphics-drivers/ppa/ubuntu bionic InRelease\n",
            "Hit:2 http://archive.ubuntu.com/ubuntu bionic InRelease\n",
            "Get:3 http://archive.ubuntu.com/ubuntu bionic-updates InRelease [88.7 kB]\n",
            "Get:4 http://security.ubuntu.com/ubuntu bionic-security InRelease [88.7 kB]\n",
            "Get:5 http://ppa.launchpad.net/marutter/c2d4u3.5/ubuntu bionic InRelease [15.4 kB]\n",
            "Get:6 https://cloud.r-project.org/bin/linux/ubuntu bionic-cran35/ InRelease [3,626 B]\n",
            "Get:7 http://archive.ubuntu.com/ubuntu bionic-backports InRelease [74.6 kB]\n",
            "Get:8 http://storage.googleapis.com/tensorflow-serving-apt stable InRelease [3,012 B]\n",
            "Ign:9 https://developer.download.nvidia.com/compute/cuda/repos/ubuntu1804/x86_64  InRelease\n",
            "Ign:10 https://developer.download.nvidia.com/compute/machine-learning/repos/ubuntu1804/x86_64  InRelease\n",
            "Hit:11 https://developer.download.nvidia.com/compute/cuda/repos/ubuntu1804/x86_64  Release\n",
            "Get:12 https://developer.download.nvidia.com/compute/machine-learning/repos/ubuntu1804/x86_64  Release [564 B]\n",
            "Get:13 https://developer.download.nvidia.com/compute/machine-learning/repos/ubuntu1804/x86_64  Release.gpg [833 B]\n",
            "Get:14 http://ppa.launchpad.net/marutter/c2d4u3.5/ubuntu bionic/main Sources [1,844 kB]\n",
            "Get:15 http://ppa.launchpad.net/marutter/c2d4u3.5/ubuntu bionic/main amd64 Packages [890 kB]\n",
            "Get:16 http://security.ubuntu.com/ubuntu bionic-security/restricted amd64 Packages [87.8 kB]\n",
            "Get:17 http://security.ubuntu.com/ubuntu bionic-security/main amd64 Packages [993 kB]\n",
            "Get:18 http://security.ubuntu.com/ubuntu bionic-security/universe amd64 Packages [866 kB]\n",
            "Get:19 http://security.ubuntu.com/ubuntu bionic-security/multiverse amd64 Packages [9,282 B]\n",
            "Get:20 http://archive.ubuntu.com/ubuntu bionic-updates/main amd64 Packages [1,292 kB]\n",
            "Get:21 http://archive.ubuntu.com/ubuntu bionic-updates/universe amd64 Packages [1,404 kB]\n",
            "Get:22 http://archive.ubuntu.com/ubuntu bionic-updates/multiverse amd64 Packages [13.6 kB]\n",
            "Get:23 http://archive.ubuntu.com/ubuntu bionic-updates/restricted amd64 Packages [101 kB]\n",
            "Get:24 https://cloud.r-project.org/bin/linux/ubuntu bionic-cran35/ Packages [93.7 kB]\n",
            "Get:26 http://storage.googleapis.com/tensorflow-serving-apt stable/tensorflow-model-server-universal amd64 Packages [349 B]\n",
            "Get:27 https://developer.download.nvidia.com/compute/machine-learning/repos/ubuntu1804/x86_64  Packages [40.0 kB]\n",
            "Get:28 http://storage.googleapis.com/tensorflow-serving-apt stable/tensorflow-model-server amd64 Packages [341 B]\n",
            "Fetched 7,911 kB in 2s (3,503 kB/s)\n",
            "Reading package lists... Done\n",
            "Building dependency tree       \n",
            "Reading state information... Done\n",
            "43 packages can be upgraded. Run 'apt list --upgradable' to see them.\n"
          ],
          "name": "stdout"
        }
      ]
    },
    {
      "cell_type": "markdown",
      "metadata": {
        "id": "qfL7lR17n2ip",
        "colab_type": "text"
      },
      "source": [
        "Now we install tensorflow model server"
      ]
    },
    {
      "cell_type": "code",
      "metadata": {
        "id": "AyBOIwH5nwJN",
        "colab_type": "code",
        "colab": {
          "base_uri": "https://localhost:8080/",
          "height": 343
        },
        "outputId": "97ee82bf-44e3-4a92-b323-e123519d529e"
      },
      "source": [
        "!apt-get install tensorflow-model-server"
      ],
      "execution_count": 21,
      "outputs": [
        {
          "output_type": "stream",
          "text": [
            "Reading package lists... Done\n",
            "Building dependency tree       \n",
            "Reading state information... Done\n",
            "The following package was automatically installed and is no longer required:\n",
            "  libnvidia-common-440\n",
            "Use 'apt autoremove' to remove it.\n",
            "The following NEW packages will be installed:\n",
            "  tensorflow-model-server\n",
            "0 upgraded, 1 newly installed, 0 to remove and 43 not upgraded.\n",
            "Need to get 187 MB of archives.\n",
            "After this operation, 0 B of additional disk space will be used.\n",
            "Get:1 http://storage.googleapis.com/tensorflow-serving-apt stable/tensorflow-model-server amd64 tensorflow-model-server all 2.2.0 [187 MB]\n",
            "Fetched 187 MB in 4s (52.4 MB/s)\n",
            "Selecting previously unselected package tensorflow-model-server.\n",
            "(Reading database ... 144379 files and directories currently installed.)\n",
            "Preparing to unpack .../tensorflow-model-server_2.2.0_all.deb ...\n",
            "Unpacking tensorflow-model-server (2.2.0) ...\n",
            "Setting up tensorflow-model-server (2.2.0) ...\n"
          ],
          "name": "stdout"
        }
      ]
    },
    {
      "cell_type": "markdown",
      "metadata": {
        "id": "Wj7TkomFoHcC",
        "colab_type": "text"
      },
      "source": [
        "Now we can run our api server. "
      ]
    },
    {
      "cell_type": "code",
      "metadata": {
        "id": "sHfeO5lpL3dU",
        "colab_type": "code",
        "colab": {}
      },
      "source": [
        "os.environ[\"MODEL_DIR\"] = MODEL_DIR\n"
      ],
      "execution_count": 22,
      "outputs": []
    },
    {
      "cell_type": "code",
      "metadata": {
        "id": "zjb6W89moVwz",
        "colab_type": "code",
        "colab": {
          "base_uri": "https://localhost:8080/",
          "height": 34
        },
        "outputId": "ab464a2d-9e07-44e4-92bc-57fe517f32d8"
      },
      "source": [
        "%%bash --bg \n",
        "nohup tensorflow_model_server \\\n",
        "  --rest_api_port=8501 \\\n",
        "  --model_name=epl_predictions \\\n",
        "  --model_base_path=\"${MODEL_DIR}\" >server.log 2>&1"
      ],
      "execution_count": 23,
      "outputs": [
        {
          "output_type": "stream",
          "text": [
            "Starting job # 0 in a separate thread.\n"
          ],
          "name": "stdout"
        }
      ]
    },
    {
      "cell_type": "markdown",
      "metadata": {
        "id": "4BrzzNSKok1o",
        "colab_type": "text"
      },
      "source": [
        "Now we can create the a json object to send as request to the api. We are going to send all the remaining Arsenal games and see what are the predictions so we can finally figure out if Arsenal is going to reach the Champions League"
      ]
    },
    {
      "cell_type": "code",
      "metadata": {
        "id": "zqM0N4wuodsT",
        "colab_type": "code",
        "colab": {
          "base_uri": "https://localhost:8080/",
          "height": 85
        },
        "outputId": "4d2f3514-4020-4e81-85e2-40f27a1b2fb2"
      },
      "source": [
        "entry = np.array([[0,0,0,0,0,0,0,0,0,0,0,0,0,0,1,0,0,0,0,0,0,0,0,0,0,0,0,0,0,0,0,0,0,0,0,0,0,0,0,0,0,0,0,0,0,0,0,0,0,0,0,0,0,0,0,0,0,0,0,0,0,0,0,0,0,0,0,0,0,0,0,0,0,0,0,0,0,0,0,0,0,0,0,0,0,1,0,0,0,0,0,0,0,0,0,0,0,0,0,0,0,0,0,0,0,0,0,0,0,1], \n",
        "                  [0,0,0,0,0,0,0,0,0,0,0,0,0,0,0,0,0,0,0,0,0,0,0,0,0,0,0,0,0,0,0,0,0,0,0,0,0,0,0,0,0,0,0,0,0,0,0,0,0,0,0,0,0,0,0,0,1,1,0,0,0,0,0,0,0,0,0,0,0,0,0,0,0,0,0,0,0,0,0,0,0,0,0,0,0,0,0,0,0,0,0,0,0,0,0,0,0,0,0,0,0,0,0,0,0,1,0,0,0,0],\n",
        "                  [0,0,0,0,0,0,0,0,0,0,0,0,0,0,1,0,0,0,0,0,0,0,0,0,0,0,0,0,0,0,0,0,0,0,0,0,0,0,0,0,0,0,0,0,0,0,0,0,0,0,0,0,0,0,0,0,0,0,0,0,0,0,0,0,0,0,0,0,0,0,0,0,0,0,0,0,0,0,0,1,0,0,0,0,0,0,0,0,0,0,0,0,0,0,0,0,0,0,0,0,0,0,0,0,0,0,0,0,1,0], \n",
        "                  [0,0,0,0,0,0,0,0,0,0,0,0,0,0,0,0,0,0,0,0,0,0,0,0,0,0,0,0,0,0,0,0,0,0,0,0,0,0,0,0,0,0,0,0,0,0,0,0,0,0,0,1,0,0,0,0,0,1,0,0,0,0,0,0,0,0,0,0,0,0,0,0,0,0,0,0,0,0,0,0,0,0,0,0,0,0,0,0,0,0,0,0,0,0,0,0,0,0,0,0,0,0,0,0,0,0,1,0,0,0],\n",
        "                  [0,0,0,0,0,0,0,0,0,0,0,0,0,0,1,0,0,0,0,0,0,0,0,0,0,0,0,0,0,0,0,0,0,0,0,0,0,0,0,0,0,0,0,0,0,0,0,0,0,0,0,0,0,0,0,0,0,0,0,0,0,0,0,0,0,0,0,0,0,0,0,0,0,0,0,0,0,0,0,0,1,0,0,0,0,0,0,0,0,0,0,0,0,0,0,0,0,0,0,0,0,0,0,0,0,0,0,0,0,1],\n",
        "                  [0,0,0,0,0,0,0,0,0,0,0,0,0,0,1,0,0,0,0,0,0,0,0,0,0,0,0,0,0,0,0,0,0,0,0,0,0,0,0,0,0,0,0,0,0,0,0,0,0,0,0,0,0,0,0,0,0,0,0,0,0,0,0,0,0,0,0,0,0,0,0,0,0,0,0,0,0,0,0,0,0,1,0,0,0,0,0,0,0,0,0,0,0,0,0,0,0,0,0,0,0,0,0,0,0,1,0,0,0,0],\n",
        "                  [0,0,0,0,0,0,0,0,0,0,0,0,0,0,0,1,0,0,0,0,0,0,0,0,0,0,0,0,0,0,0,0,0,0,0,0,0,0,0,0,0,0,0,0,0,0,0,0,0,0,0,0,0,0,0,0,0,1,0,0,0,0,0,0,0,0,0,0,0,0,0,0,0,0,0,0,0,0,0,0,0,0,0,0,0,0,0,0,0,0,0,0,0,0,0,0,0,0,0,0,0,0,0,0,0,0,0,0,1,0],\n",
        "                  [0,0,0,0,0,0,0,0,0,0,0,0,0,0,1,0,0,0,0,0,0,0,0,0,0,0,0,0,0,0,0,0,0,0,0,0,0,0,0,0,0,0,0,0,0,0,0,0,0,0,0,0,0,0,0,0,0,0,0,0,0,0,0,0,0,0,0,0,0,0,0,0,0,0,0,0,0,0,0,0,0,0,0,0,0,0,0,0,0,0,0,0,0,0,0,1,0,0,0,0,0,0,0,0,0,0,1,0,0,0]\n",
        "                ])\n",
        "                  \n",
        "print(type(entry))\n",
        "print(entry.shape)\n",
        "\n",
        "the_list = entry.tolist()\n",
        "print(type(the_list))\n",
        "\n",
        "\n",
        "data = json.dumps({\"signature_name\": \"serving_default\", \"instances\": the_list})\n",
        "print('Data: {} ... {}'.format(data[:50], data[len(data)-52:]))"
      ],
      "execution_count": 24,
      "outputs": [
        {
          "output_type": "stream",
          "text": [
            "<class 'numpy.ndarray'>\n",
            "(8, 110)\n",
            "<class 'list'>\n",
            "Data: {\"signature_name\": \"serving_default\", \"instances\": ... 0, 0, 1, 0, 0, 0, 0, 0, 0, 0, 0, 0, 0, 1, 0, 0, 0]]}\n"
          ],
          "name": "stdout"
        }
      ]
    },
    {
      "cell_type": "markdown",
      "metadata": {
        "id": "cf45alJOpg7b",
        "colab_type": "text"
      },
      "source": [
        "Now that we have our object we can send it to the api and we can receive the prediction from our model\n",
        "\n",
        "Since we sent 8 games we should receive back an array of 8 x 3 shape. We print the shape to be sure. We then\n",
        "We then print the index of the highest probability to see what are our results"
      ]
    },
    {
      "cell_type": "code",
      "metadata": {
        "id": "stp3Xg04pfm3",
        "colab_type": "code",
        "colab": {
          "base_uri": "https://localhost:8080/",
          "height": 156
        },
        "outputId": "ddc3c58e-63ae-4556-f245-b60e9a4fff65"
      },
      "source": [
        "!pip install -q requests\n",
        "\n",
        "\n",
        "headers = {\"content-type\": \"application/json\"}\n",
        "json_response = requests.post('http://localhost:8501/v1/models/epl_predictions:predict', data=data, headers=headers)\n",
        "\n",
        "response = json.loads(json_response.text)\n",
        "predictions = response['predictions']\n",
        "\n",
        "print(json_response)\n",
        "print(json_response.text)\n",
        "print(response['predictions'])\n",
        "\n",
        "my_predictions = np.array(predictions)\n",
        "print(\"The predictions are: \",np.argmax(my_predictions,axis=1))\n"
      ],
      "execution_count": 31,
      "outputs": [
        {
          "output_type": "stream",
          "text": [
            "<Response [200]>\n",
            "{\n",
            "    \"predictions\": [[2.67973306e-14, 0.000472112908, 0.999527931], [0.0562632605, 0.000124885497, 0.943611801], [4.96751806e-11, 2.29888587e-06, 0.999997735], [0.00811510161, 0.000195591012, 0.991689324], [1.45687515e-08, 9.3231921e-07, 0.999999046], [8.91271258e-12, 3.68018505e-08, 1.0], [0.0604688786, 0.000126233645, 0.939404905], [2.11211682e-06, 2.21750751e-09, 0.999997854]\n",
            "    ]\n",
            "}\n",
            "[[2.67973306e-14, 0.000472112908, 0.999527931], [0.0562632605, 0.000124885497, 0.943611801], [4.96751806e-11, 2.29888587e-06, 0.999997735], [0.00811510161, 0.000195591012, 0.991689324], [1.45687515e-08, 9.3231921e-07, 0.999999046], [8.91271258e-12, 3.68018505e-08, 1.0], [0.0604688786, 0.000126233645, 0.939404905], [2.11211682e-06, 2.21750751e-09, 0.999997854]]\n",
            "The predictions are:  [2 2 2 2 2 2 2 2]\n"
          ],
          "name": "stdout"
        }
      ]
    },
    {
      "cell_type": "markdown",
      "metadata": {
        "id": "ZNWZtvhJ1wH1",
        "colab_type": "text"
      },
      "source": [
        "OK, we got all our results back. The model says that for the 8 games we sent the home team is going to win all of them.\n",
        "\n",
        "Do we believe it? Kinda, usually, a home team has the advantage of the crowd but during in this Covid-19 era there is no crowd anymore. Our model doesn't know that though so that's a good feature to add for a future iteration of the model.\n",
        "\n",
        "For now let's assume we believe it. If this is the case then we have the following record for Arsenal:\n",
        "\n",
        "5 wins (it is playing as the home team in 5 of the games we sent) and 3 losses (it is playing as the away team in the other 3 games we sent)\n",
        "\n",
        "Before playing Norwich (the first of the 8 games we sent to our api) Arsenal had 43 points. 43 + 15 (5 games won as the home team) = 58 so, according to our model, the Gunners will end the season with 58 points.\n"
      ]
    },
    {
      "cell_type": "code",
      "metadata": {
        "id": "LbdIInKZpyPI",
        "colab_type": "code",
        "colab": {}
      },
      "source": [
        ""
      ],
      "execution_count": null,
      "outputs": []
    }
  ]
}